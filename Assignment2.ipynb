{
 "cells": [
  {
   "cell_type": "code",
   "execution_count": 2,
   "metadata": {},
   "outputs": [
    {
     "name": "stdout",
     "output_type": "stream",
     "text": [
      "Enter marks of the first subject: 70\n",
      "Enter marks of the second subject: 60\n",
      "Enter marks of the third subject: 70\n",
      "Enter marks of the fourth subject: 80\n",
      "Enter marks of the fifth subject: 50\n",
      "Grade: C\n",
      "Enter a number: 3\n",
      "odd\n",
      "3\n",
      "sum is : 10\n",
      "maximum number : 4\n",
      "[1, 1, 2, 3]\n"
     ]
    }
   ],
   "source": [
    "#1\n",
    "\n",
    "sub1=int(input(\"Enter marks of the first subject: \"))\n",
    "sub2=int(input(\"Enter marks of the second subject: \"))\n",
    "sub3=int(input(\"Enter marks of the third subject: \"))\n",
    "sub4=int(input(\"Enter marks of the fourth subject: \"))\n",
    "sub5=int(input(\"Enter marks of the fifth subject: \"))\n",
    "avg=(sub1+sub2+sub3+sub4+sub4)/5\n",
    "\n",
    "if avg>=90:\n",
    "    print(\"Grade: A\")\n",
    "elif avg>=80 and avg<90:\n",
    "    print(\"Grade: B\")\n",
    "elif avg>=70 and avg<80:\n",
    "    print(\"Grade: C\")\n",
    "elif avg>=60 and avg<70:\n",
    "    print(\"Grade: D\")\n",
    "else:\n",
    "    print(\"Grade: F\")\n",
    "\n",
    "\n",
    "#2\n",
    "\n",
    "num = int(input(\"Enter a number: \"))\n",
    "if (num % 2)==0:\n",
    "   print(\"even\")\n",
    "else:\n",
    "   print(\"odd\")\n",
    "\n",
    "\n",
    "#3\n",
    "\n",
    "mylist = [\"apple\", \"banana\", \"cherry\"]\n",
    "print(len(mylist))\n",
    "\n",
    "#4\n",
    "\n",
    "lst = [1,2,3,4]\n",
    "print(\"sum is :\", sum(lst))\n",
    "\n",
    "\n",
    "#5\n",
    "\n",
    "lst = [1,2,3,4]\n",
    "print(\"maximum number :\", max(lst))\n",
    "\n",
    "#6\n",
    "\n",
    "a = [1, 1, 2, 3, 5, 8, 13, 21, 34, 55, 89]\n",
    "a_sorted = sorted(i for i in a if i < 5)\n",
    "print(a_sorted)\n",
    "\n",
    "\n",
    "         "
   ]
  },
  {
   "cell_type": "code",
   "execution_count": null,
   "metadata": {},
   "outputs": [],
   "source": []
  }
 ],
 "metadata": {
  "kernelspec": {
   "display_name": "Python 3",
   "language": "python",
   "name": "python3"
  },
  "language_info": {
   "codemirror_mode": {
    "name": "ipython",
    "version": 3
   },
   "file_extension": ".py",
   "mimetype": "text/x-python",
   "name": "python",
   "nbconvert_exporter": "python",
   "pygments_lexer": "ipython3",
   "version": "3.7.3"
  }
 },
 "nbformat": 4,
 "nbformat_minor": 2
}
